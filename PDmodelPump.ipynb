{
 "cells": [
  {
   "cell_type": "code",
   "execution_count": 1,
   "metadata": {},
   "outputs": [
    {
     "name": "stdout",
     "output_type": "stream",
     "text": [
      "WARNING:tensorflow:From c:\\Users\\viraj\\AppData\\Local\\Programs\\Python\\Python311\\Lib\\site-packages\\keras\\src\\losses.py:2976: The name tf.losses.sparse_softmax_cross_entropy is deprecated. Please use tf.compat.v1.losses.sparse_softmax_cross_entropy instead.\n",
      "\n"
     ]
    }
   ],
   "source": [
    "from tensorflow.keras.preprocessing.image import ImageDataGenerator\n",
    "from tensorflow.keras.models import Sequential\n",
    "from tensorflow.keras.layers import Conv2D, MaxPooling2D, Flatten, Dense, Dropout"
   ]
  },
  {
   "cell_type": "code",
   "execution_count": 2,
   "metadata": {},
   "outputs": [
    {
     "name": "stdout",
     "output_type": "stream",
     "text": [
      "Found 1490 images belonging to 15 classes.\n",
      "Found 1490 images belonging to 15 classes.\n"
     ]
    }
   ],
   "source": [
    "train_datagen = ImageDataGenerator(rescale=1./255, shear_range=0.2, zoom_range=0.2, horizontal_flip=True)\n",
    "test_datagen = ImageDataGenerator(rescale=1./255)\n",
    "\n",
    "train_set = train_datagen.flow_from_directory('dataset/data_pumpkin/dtrain',\n",
    "                                             target_size=(64, 64),\n",
    "                                             batch_size=32,\n",
    "                                             class_mode='categorical')\n",
    "\n",
    "test_set = test_datagen.flow_from_directory('dataset/data_pumpkin/dtest',\n",
    "                                           target_size=(64, 64),\n",
    "                                           batch_size=32,\n",
    "                                           class_mode='categorical')"
   ]
  },
  {
   "cell_type": "code",
   "execution_count": 3,
   "metadata": {},
   "outputs": [
    {
     "name": "stdout",
     "output_type": "stream",
     "text": [
      "{'Alternaria cucumerina': 0, 'Alternaria leaf blight': 1, 'Aphids': 2, 'Armyworms': 3, 'Bacterial leaf spot': 4, 'Bacterial wilt': 5, 'Cucumber beetles': 6, 'Flea beetles': 7, 'Fusarium': 8, 'Gummy stem blight': 9, 'Phytophthora bligh': 10, 'Squash bug': 11, 'Squash vine borer': 12, 'Thrips (Western flower thrips)': 13, 'healthy_pumpkin': 14}\n"
     ]
    }
   ],
   "source": [
    "print(test_set.class_indices)"
   ]
  },
  {
   "cell_type": "code",
   "execution_count": 3,
   "metadata": {},
   "outputs": [
    {
     "name": "stdout",
     "output_type": "stream",
     "text": [
      "WARNING:tensorflow:From c:\\Users\\viraj\\AppData\\Local\\Programs\\Python\\Python311\\Lib\\site-packages\\keras\\src\\backend.py:873: The name tf.get_default_graph is deprecated. Please use tf.compat.v1.get_default_graph instead.\n",
      "\n",
      "WARNING:tensorflow:From c:\\Users\\viraj\\AppData\\Local\\Programs\\Python\\Python311\\Lib\\site-packages\\keras\\src\\layers\\pooling\\max_pooling2d.py:161: The name tf.nn.max_pool is deprecated. Please use tf.nn.max_pool2d instead.\n",
      "\n",
      "WARNING:tensorflow:From c:\\Users\\viraj\\AppData\\Local\\Programs\\Python\\Python311\\Lib\\site-packages\\keras\\src\\optimizers\\__init__.py:309: The name tf.train.Optimizer is deprecated. Please use tf.compat.v1.train.Optimizer instead.\n",
      "\n"
     ]
    }
   ],
   "source": [
    "\n",
    "# Build the CNN model\n",
    "model = Sequential()\n",
    "\n",
    "model.add(Conv2D(32, (3, 3), input_shape=(64, 64, 3), activation='relu'))\n",
    "model.add(MaxPooling2D(pool_size=(2, 2)))\n",
    "\n",
    "model.add(Conv2D(64, (3, 3), activation='relu'))\n",
    "model.add(MaxPooling2D(pool_size=(2, 2)))\n",
    "\n",
    "model.add(Conv2D(128, (3, 3), activation='relu'))\n",
    "model.add(MaxPooling2D(pool_size=(2, 2)))\n",
    "\n",
    "model.add(Flatten())\n",
    "\n",
    "model.add(Dense(units=128, activation='relu'))\n",
    "model.add(Dense(units=15, activation='softmax'))  # Assuming 10 classes\n",
    "\n",
    "model.compile(optimizer='adam', loss='categorical_crossentropy', metrics=['accuracy'])"
   ]
  },
  {
   "cell_type": "code",
   "execution_count": 5,
   "metadata": {},
   "outputs": [
    {
     "name": "stdout",
     "output_type": "stream",
     "text": [
      "Epoch 1/25\n",
      "47/47 [==============================] - 31s 660ms/step - loss: 1.9301 - accuracy: 0.3510 - val_loss: 1.9131 - val_accuracy: 0.3510\n",
      "Epoch 2/25\n",
      "47/47 [==============================] - 28s 595ms/step - loss: 1.8587 - accuracy: 0.3953 - val_loss: 1.8896 - val_accuracy: 0.3866\n",
      "Epoch 3/25\n",
      "47/47 [==============================] - 27s 585ms/step - loss: 1.8253 - accuracy: 0.3846 - val_loss: 1.7588 - val_accuracy: 0.4114\n",
      "Epoch 4/25\n",
      "47/47 [==============================] - 28s 601ms/step - loss: 1.7174 - accuracy: 0.4275 - val_loss: 1.7063 - val_accuracy: 0.4430\n",
      "Epoch 5/25\n",
      "47/47 [==============================] - 28s 605ms/step - loss: 1.6639 - accuracy: 0.4497 - val_loss: 1.6623 - val_accuracy: 0.4591\n",
      "Epoch 6/25\n",
      "47/47 [==============================] - 28s 597ms/step - loss: 1.5480 - accuracy: 0.4872 - val_loss: 1.6187 - val_accuracy: 0.4638\n",
      "Epoch 7/25\n",
      "47/47 [==============================] - 27s 589ms/step - loss: 1.5111 - accuracy: 0.5034 - val_loss: 1.4864 - val_accuracy: 0.5067\n",
      "Epoch 8/25\n",
      "47/47 [==============================] - 28s 612ms/step - loss: 1.4655 - accuracy: 0.5087 - val_loss: 1.5372 - val_accuracy: 0.5034\n",
      "Epoch 9/25\n",
      "47/47 [==============================] - 27s 586ms/step - loss: 1.3430 - accuracy: 0.5456 - val_loss: 1.3191 - val_accuracy: 0.5705\n",
      "Epoch 10/25\n",
      "47/47 [==============================] - 28s 603ms/step - loss: 1.2838 - accuracy: 0.5651 - val_loss: 1.2324 - val_accuracy: 0.6034\n",
      "Epoch 11/25\n",
      "47/47 [==============================] - 28s 589ms/step - loss: 1.2050 - accuracy: 0.6034 - val_loss: 1.1623 - val_accuracy: 0.6174\n",
      "Epoch 12/25\n",
      "47/47 [==============================] - 29s 629ms/step - loss: 1.1965 - accuracy: 0.6087 - val_loss: 1.1065 - val_accuracy: 0.6369\n",
      "Epoch 13/25\n",
      "47/47 [==============================] - 28s 600ms/step - loss: 1.1300 - accuracy: 0.6275 - val_loss: 0.9690 - val_accuracy: 0.6624\n",
      "Epoch 14/25\n",
      "47/47 [==============================] - 28s 602ms/step - loss: 1.0605 - accuracy: 0.6403 - val_loss: 0.9775 - val_accuracy: 0.6745\n",
      "Epoch 15/25\n",
      "47/47 [==============================] - 28s 604ms/step - loss: 0.9567 - accuracy: 0.6826 - val_loss: 0.9529 - val_accuracy: 0.6812\n",
      "Epoch 16/25\n",
      "47/47 [==============================] - 28s 604ms/step - loss: 0.9349 - accuracy: 0.6819 - val_loss: 0.7265 - val_accuracy: 0.7510\n",
      "Epoch 17/25\n",
      "47/47 [==============================] - 31s 654ms/step - loss: 0.8545 - accuracy: 0.7094 - val_loss: 0.6906 - val_accuracy: 0.7617\n",
      "Epoch 18/25\n",
      "47/47 [==============================] - 29s 630ms/step - loss: 0.8298 - accuracy: 0.7315 - val_loss: 0.7772 - val_accuracy: 0.7295\n",
      "Epoch 19/25\n",
      "47/47 [==============================] - 28s 586ms/step - loss: 0.7603 - accuracy: 0.7463 - val_loss: 0.6448 - val_accuracy: 0.7792\n",
      "Epoch 20/25\n",
      "47/47 [==============================] - 28s 594ms/step - loss: 0.7466 - accuracy: 0.7470 - val_loss: 0.8431 - val_accuracy: 0.7074\n",
      "Epoch 21/25\n",
      "47/47 [==============================] - 28s 602ms/step - loss: 0.6777 - accuracy: 0.7765 - val_loss: 0.7290 - val_accuracy: 0.7523\n",
      "Epoch 22/25\n",
      "47/47 [==============================] - 28s 591ms/step - loss: 0.6338 - accuracy: 0.7946 - val_loss: 0.6449 - val_accuracy: 0.7846\n",
      "Epoch 23/25\n",
      "47/47 [==============================] - 28s 599ms/step - loss: 0.6043 - accuracy: 0.8047 - val_loss: 0.4191 - val_accuracy: 0.8591\n",
      "Epoch 24/25\n",
      "47/47 [==============================] - 28s 588ms/step - loss: 0.5695 - accuracy: 0.8107 - val_loss: 0.9447 - val_accuracy: 0.7007\n",
      "Epoch 25/25\n",
      "47/47 [==============================] - 28s 609ms/step - loss: 0.5794 - accuracy: 0.8101 - val_loss: 0.5453 - val_accuracy: 0.8141\n"
     ]
    },
    {
     "data": {
      "text/plain": [
       "<keras.src.callbacks.History at 0x26cdf9dd8d0>"
      ]
     },
     "execution_count": 5,
     "metadata": {},
     "output_type": "execute_result"
    }
   ],
   "source": [
    "model.fit(\n",
    "    train_set,\n",
    "    epochs=25,\n",
    "    validation_data=test_set\n",
    ")"
   ]
  },
  {
   "cell_type": "code",
   "execution_count": 11,
   "metadata": {},
   "outputs": [
    {
     "name": "stdout",
     "output_type": "stream",
     "text": [
      "1/1 [==============================] - 0s 58ms/step\n",
      "The predicted class is: Sqau_bg\n",
      "Confidence scores: [8.6449772e-06 1.1814810e-04 2.0114130e-07 2.6382944e-03 1.9561519e-08\n",
      " 2.6475618e-06 4.5956092e-04 1.3495557e-01 8.2741881e-06 1.0024390e-05\n",
      " 3.6413212e-06 8.6059904e-01 7.0736824e-05 1.1249463e-03 2.5987825e-07]\n"
     ]
    }
   ],
   "source": [
    "from tensorflow.keras.preprocessing import image\n",
    "import numpy as np\n",
    "\n",
    "# Path to the new image\n",
    "image_path = \"dataset\\hssqb.jpeg\" # Replace with the actual path\n",
    "\n",
    "# Load and preprocess the new image\n",
    "new_image = image.load_img(image_path, target_size=(64, 64))\n",
    "new_image_array = image.img_to_array(new_image)\n",
    "new_image_array = np.expand_dims(new_image_array, axis=0)\n",
    "new_image_array /= 255.0  # Rescale to match the training data normalization\n",
    "\n",
    "# Make a prediction\n",
    "prediction = model.predict(new_image_array)\n",
    "\n",
    "# Convert the prediction to a human-readable label\n",
    "class_labels = ['Alt_cucu','Alt_b','Aphid','ArmW','Bact_LS','Bact_wilt','Cucum_beet','Flee_beet','Fusa','Gum_stem','Phy_bli','Sqau_bg','Thirps','Hlty_corn']\n",
    "# internal mapping classes ['Alt_cucu','Alt_b','Aphid','ArmW','Bact_LS','Bact_wilt','Cucum_beet','Flee_beet','Fusa','Gum_stem','Phy_bli','Sqau_bg','Thirps','Hlty_corn']\n",
    "# og file struct ['Bacspot','Eblight','Hlty','LateB','LeafM','septLeaf','SpidM','TarSpot','ToMV','YellowLeaf']\n",
    "predicted_class_index = np.argmax(prediction)\n",
    "predicted_class = class_labels[predicted_class_index]\n",
    "\n",
    "# Display the results\n",
    "print(f\"The predicted class is: {predicted_class}\")\n",
    "print(f\"Confidence scores: {prediction.squeeze()}\")"
   ]
  },
  {
   "cell_type": "code",
   "execution_count": null,
   "metadata": {},
   "outputs": [],
   "source": [
    "#Alternaria cucumerina': 0, 'Alternaria leaf blight': 1, 'Aphids': 2, 'Armyworms': 3, 'Bacterial leaf spot': 4, 'Bacterial wilt': 5, 'Cucumber beetles': 6, 'Flea beetles': 7, 'Fusarium': 8, 'Gummy stem blight': 9, 'Phytophthora blight': 10, 'Squash bug': 11, 'Squash vine borer': 12, 'Thrips (Western flower thrips)': 13, 'healthy_pumpkin': 14}"
   ]
  },
  {
   "cell_type": "code",
   "execution_count": 9,
   "metadata": {},
   "outputs": [
    {
     "name": "stdout",
     "output_type": "stream",
     "text": [
      "47/47 [==============================] - 14s 284ms/step - loss: 0.5453 - accuracy: 0.8141\n",
      "Accuracy on the test set: 81.41%\n"
     ]
    }
   ],
   "source": [
    "accuracy = model.evaluate(test_set)[1]\n",
    "print(f\"Accuracy on the test set: {accuracy * 100:.2f}%\")"
   ]
  },
  {
   "cell_type": "code",
   "execution_count": 12,
   "metadata": {},
   "outputs": [],
   "source": [
    "model.save('pumpkin_model.keras')"
   ]
  },
  {
   "cell_type": "code",
   "execution_count": null,
   "metadata": {},
   "outputs": [],
   "source": []
  },
  {
   "cell_type": "code",
   "execution_count": null,
   "metadata": {},
   "outputs": [],
   "source": []
  },
  {
   "cell_type": "code",
   "execution_count": null,
   "metadata": {},
   "outputs": [],
   "source": []
  },
  {
   "cell_type": "code",
   "execution_count": null,
   "metadata": {},
   "outputs": [],
   "source": []
  },
  {
   "cell_type": "code",
   "execution_count": null,
   "metadata": {},
   "outputs": [],
   "source": []
  }
 ],
 "metadata": {
  "kernelspec": {
   "display_name": "Python 3",
   "language": "python",
   "name": "python3"
  },
  "language_info": {
   "codemirror_mode": {
    "name": "ipython",
    "version": 3
   },
   "file_extension": ".py",
   "mimetype": "text/x-python",
   "name": "python",
   "nbconvert_exporter": "python",
   "pygments_lexer": "ipython3",
   "version": "3.11.7"
  }
 },
 "nbformat": 4,
 "nbformat_minor": 2
}
